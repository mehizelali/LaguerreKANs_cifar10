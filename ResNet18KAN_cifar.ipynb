{
  "cells": [
    {
      "cell_type": "code",
      "execution_count": 1,
      "id": "1NZe_Eh861qI",
      "metadata": {
        "id": "1NZe_Eh861qI"
      },
      "outputs": [],
      "source": [
        "import torch\n",
        "import torch.nn as nn\n",
        "import torch.nn.functional as F\n",
        "from torchvision import datasets, transforms, models\n",
        "from torch.utils.data import DataLoader\n",
        "from torch.optim import Adam\n",
        "from tqdm import tqdm\n",
        "import argparse\n",
        "import os\n",
        "\n",
        "\n",
        "def laguerre_polynomial(x, degree):\n",
        "    if degree == 0:\n",
        "        return torch.ones_like(x)\n",
        "    elif degree == 1:\n",
        "        return 1 - x\n",
        "\n",
        "    L_prev_prev = torch.ones_like(x)\n",
        "    L_prev = 1 - x\n",
        "    for n in range(2, degree + 1):\n",
        "        L = ((2 * n - 1 - x) * L_prev - (n - 1) * L_prev_prev) / n\n",
        "        L_prev_prev, L_prev = L_prev, L\n",
        "    return L\n",
        "\n",
        "class KANLayer(nn.Module):\n",
        "    def __init__(self, input_dim, output_dim, degree=3, grid_size=4, use_resid=False, resid=nn.SiLU):\n",
        "        super().__init__()\n",
        "        self.input_dim = input_dim\n",
        "        self.output_dim = output_dim\n",
        "        self.degree = degree\n",
        "        self.grid_size = grid_size\n",
        "        self.use_resid = use_resid\n",
        "\n",
        "        self.grid_centers = nn.Parameter(torch.linspace(0, 1, grid_size).view(1, 1, 1, grid_size))\n",
        "        self.grid_scales = nn.Parameter(torch.ones(input_dim, grid_size))\n",
        "        self.coefficients = nn.Parameter(torch.randn(input_dim, grid_size, output_dim))\n",
        "\n",
        "        if self.use_resid:\n",
        "            self.resid_act = resid()\n",
        "            self.resid_linear = nn.Linear(input_dim, output_dim)\n",
        "\n",
        "        self._reset_parameters()\n",
        "\n",
        "    def _reset_parameters(self):\n",
        "        nn.init.constant_(self.grid_scales, 1.0)\n",
        "\n",
        "        nn.init.normal_(self.coefficients, std=1 / (self.grid_size ** 0.5))\n",
        "        if self.use_resid:\n",
        "            nn.init.kaiming_normal_(self.resid_linear.weight)\n",
        "            nn.init.zeros_(self.resid_linear.bias)\n",
        "\n",
        "    def kan_transform(self, x):\n",
        "        x_transformed = (x.unsqueeze(-1) - self.grid_centers) * self.grid_scales.abs()\n",
        "        x_transformed = torch.clamp(x_transformed, -1, 1)  # Clamp to avoid large values\n",
        "\n",
        "        basis = laguerre_polynomial(x_transformed, self.degree)\n",
        "        out = torch.einsum('bldg,dgo->blo', basis, self.coefficients)\n",
        "        return out\n",
        "\n",
        "    def forward(self, x):\n",
        "        out = self.kan_transform(x)\n",
        "        if self.use_resid:\n",
        "            res = self.resid_linear(self.resid_act(x))\n",
        "            out = out + res\n",
        "        return out\n",
        "\n",
        "\n",
        "\n",
        "class ResNet18WithKAN(nn.Module):\n",
        "    def __init__(self, num_classes, hidden_dims=[256, 128], kan_degree=3, grid_size=4):\n",
        "        super().__init__()\n",
        "        self.backbone = models.resnet18(pretrained=False)\n",
        "        self.backbone.conv1 = nn.Conv2d(3, 64, kernel_size=3, stride=1, padding=1, bias=False)\n",
        "        self.backbone.maxpool = nn.Identity()\n",
        "        self.backbone.fc = nn.Identity()\n",
        "\n",
        "        in_features = 512\n",
        "        layers = []\n",
        "        input_dim = in_features\n",
        "        for hidden_dim in hidden_dims:\n",
        "            layers.append(KANLayer(input_dim, hidden_dim, degree=kan_degree, grid_size=grid_size, use_resid=True))\n",
        "            input_dim = hidden_dim\n",
        "\n",
        "        # Final classification layer as a KANLayer\n",
        "        layers.append(KANLayer(input_dim, num_classes, degree=kan_degree, grid_size=grid_size, use_resid=True))\n",
        "        self.kan_head = nn.Sequential(*layers)\n",
        "\n",
        "    def forward(self, x):\n",
        "        x = self.backbone(x)\n",
        "        x = x.unsqueeze(1)  # [B, 1, D]\n",
        "        x = self.kan_head(x)  # [B, 1, num_classes]\n",
        "        return x.squeeze(1)\n",
        "\n",
        "\n"
      ]
    },
    {
      "cell_type": "code",
      "source": [
        "def train_one_epoch(model, loader, optimizer, criterion, device):\n",
        "    model.train()\n",
        "    total_loss, correct, total = 0, 0, 0\n",
        "    for images, labels in tqdm(loader, desc=\"Train\", leave=False):\n",
        "        images, labels = images.to(device), labels.to(device)\n",
        "        optimizer.zero_grad()\n",
        "        outputs = model(images)\n",
        "        loss = criterion(outputs, labels)\n",
        "        loss.backward()\n",
        "        torch.nn.utils.clip_grad_norm_(model.parameters(), max_norm=1.0)\n",
        "\n",
        "        optimizer.step()\n",
        "\n",
        "        total_loss += loss.item() * labels.size(0)\n",
        "        preds = outputs.argmax(dim=1)\n",
        "        correct += (preds == labels).sum().item()\n",
        "        total += labels.size(0)\n",
        "    return total_loss / total, correct / total\n",
        "\n",
        "@torch.no_grad()\n",
        "def evaluate(model, loader, criterion, device):\n",
        "    model.eval()\n",
        "    total_loss, correct, total = 0, 0, 0\n",
        "    for images, labels in tqdm(loader, desc=\"Eval\", leave=False):\n",
        "        images, labels = images.to(device), labels.to(device)\n",
        "        outputs = model(images)\n",
        "        loss = criterion(outputs, labels)\n",
        "\n",
        "        total_loss += loss.item() * labels.size(0)\n",
        "        preds = outputs.argmax(dim=1)\n",
        "        correct += (preds == labels).sum().item()\n",
        "        total += labels.size(0)\n",
        "    return total_loss / total, correct / total\n",
        "\n",
        "\n",
        "\n"
      ],
      "metadata": {
        "id": "kwfpNJ_tRPzU"
      },
      "id": "kwfpNJ_tRPzU",
      "execution_count": 2,
      "outputs": []
    },
    {
      "cell_type": "code",
      "source": [
        "def main(args):\n",
        "    device = torch.device('cuda' if torch.cuda.is_available() else 'cpu')\n",
        "    transform = transforms.Compose([\n",
        "        transforms.RandomCrop(32, padding=4),\n",
        "        transforms.RandomHorizontalFlip(),\n",
        "        transforms.ToTensor(),\n",
        "        transforms.Normalize((0.5,), (0.5,))\n",
        "    ])\n",
        "\n",
        "    # Load CIFAR-10 or CIFAR-100\n",
        "    if args.dataset == 'cifar10':\n",
        "        trainset = datasets.CIFAR10(root='./data', train=True, download=True, transform=transform)\n",
        "        testset = datasets.CIFAR10(root='./data', train=False, download=True, transform=transform)\n",
        "        num_classes = 10\n",
        "    else:\n",
        "        trainset = datasets.CIFAR100(root='./data', train=True, download=True, transform=transform)\n",
        "        testset = datasets.CIFAR100(root='./data', train=False, download=True, transform=transform)\n",
        "        num_classes = 100\n",
        "\n",
        "    train_loader = DataLoader(trainset, batch_size=args.batch_size, shuffle=True, num_workers=4)\n",
        "    test_loader = DataLoader(testset, batch_size=args.batch_size, shuffle=False, num_workers=4)\n",
        "\n",
        "    model = ResNet18WithKAN(num_classes=num_classes,\n",
        "                            hidden_dims=[256, 128],\n",
        "                            kan_degree=args.degree,\n",
        "                            grid_size=args.grid_size).to(device)\n",
        "\n",
        "    optimizer = Adam(model.parameters(), lr=args.lr)\n",
        "    criterion = nn.CrossEntropyLoss()\n",
        "\n",
        "    best_acc = 0\n",
        "    for epoch in range(args.epochs):\n",
        "        print(f\"\\nEpoch {epoch+1}/{args.epochs}\")\n",
        "        train_loss, train_acc = train_one_epoch(model, train_loader, optimizer, criterion, device)\n",
        "        test_loss, test_acc = evaluate(model, test_loader, criterion, device)\n",
        "\n",
        "        print(f\"Train Loss: {train_loss:.4f}, Acc: {train_acc:.4f}\")\n",
        "        print(f\"Test  Loss: {test_loss:.4f}, Acc: {test_acc:.4f}\")\n",
        "\n",
        "        if test_acc > best_acc:\n",
        "            best_acc = test_acc\n",
        "            torch.save(model.state_dict(), f'best_model_{args.dataset}.pth')\n",
        "\n",
        "    print(f\"\\nBest Accuracy on {args.dataset}: {best_acc:.4f}\")\n",
        "\n"
      ],
      "metadata": {
        "id": "o5wVciaWRXKM"
      },
      "id": "o5wVciaWRXKM",
      "execution_count": 3,
      "outputs": []
    },
    {
      "cell_type": "code",
      "source": [
        "def get_args():\n",
        "    parser = argparse.ArgumentParser()\n",
        "    parser.add_argument('--dataset', type=str, default='cifar10', choices=['cifar10', 'cifar100'])\n",
        "    parser.add_argument('--epochs', type=int, default=100)\n",
        "    parser.add_argument('--batch_size', type=int, default=128)\n",
        "    parser.add_argument('--lr', type=float, default=1e-3)\n",
        "    parser.add_argument('--degree', type=int, default=3)\n",
        "    parser.add_argument('--grid_size', type=int, default=4)\n",
        "\n",
        "\n",
        "    args, _ = parser.parse_known_args()\n",
        "    return args\n",
        "\n",
        "if __name__ == '__main__':\n",
        "    args = get_args()\n",
        "    main(args)\n"
      ],
      "metadata": {
        "colab": {
          "base_uri": "https://localhost:8080/"
        },
        "id": "BCzJendGRZLv",
        "outputId": "786443cf-6599-4b77-c3d2-9fbb8f818d03"
      },
      "id": "BCzJendGRZLv",
      "execution_count": 4,
      "outputs": [
        {
          "output_type": "stream",
          "name": "stderr",
          "text": [
            "/usr/local/lib/python3.11/dist-packages/torch/utils/data/dataloader.py:624: UserWarning: This DataLoader will create 4 worker processes in total. Our suggested max number of worker in current system is 2, which is smaller than what this DataLoader is going to create. Please be aware that excessive worker creation might get DataLoader running slow or even freeze, lower the worker number to avoid potential slowness/freeze if necessary.\n",
            "  warnings.warn(\n",
            "/usr/local/lib/python3.11/dist-packages/torchvision/models/_utils.py:208: UserWarning: The parameter 'pretrained' is deprecated since 0.13 and may be removed in the future, please use 'weights' instead.\n",
            "  warnings.warn(\n",
            "/usr/local/lib/python3.11/dist-packages/torchvision/models/_utils.py:223: UserWarning: Arguments other than a weight enum or `None` for 'weights' are deprecated since 0.13 and may be removed in the future. The current behavior is equivalent to passing `weights=None`.\n",
            "  warnings.warn(msg)\n"
          ]
        },
        {
          "output_type": "stream",
          "name": "stdout",
          "text": [
            "\n",
            "Epoch 1/100\n"
          ]
        },
        {
          "output_type": "stream",
          "name": "stderr",
          "text": []
        },
        {
          "output_type": "stream",
          "name": "stdout",
          "text": [
            "Train Loss: 23.7257, Acc: 0.1335\n",
            "Test  Loss: 19.8254, Acc: 0.1387\n",
            "\n",
            "Epoch 2/100\n"
          ]
        },
        {
          "output_type": "stream",
          "name": "stderr",
          "text": []
        },
        {
          "output_type": "stream",
          "name": "stdout",
          "text": [
            "Train Loss: 13.9062, Acc: 0.1331\n",
            "Test  Loss: 11.2631, Acc: 0.1471\n",
            "\n",
            "Epoch 3/100\n"
          ]
        },
        {
          "output_type": "stream",
          "name": "stderr",
          "text": []
        },
        {
          "output_type": "stream",
          "name": "stdout",
          "text": [
            "Train Loss: 10.3081, Acc: 0.1464\n",
            "Test  Loss: 7.8683, Acc: 0.1548\n",
            "\n",
            "Epoch 4/100\n"
          ]
        },
        {
          "output_type": "stream",
          "name": "stderr",
          "text": []
        },
        {
          "output_type": "stream",
          "name": "stdout",
          "text": [
            "Train Loss: 8.1679, Acc: 0.1495\n",
            "Test  Loss: 5.4112, Acc: 0.1411\n",
            "\n",
            "Epoch 5/100\n"
          ]
        },
        {
          "output_type": "stream",
          "name": "stderr",
          "text": []
        },
        {
          "output_type": "stream",
          "name": "stdout",
          "text": [
            "Train Loss: 8.2081, Acc: 0.1301\n",
            "Test  Loss: 7.9060, Acc: 0.1293\n",
            "\n",
            "Epoch 6/100\n"
          ]
        },
        {
          "output_type": "stream",
          "name": "stderr",
          "text": []
        },
        {
          "output_type": "stream",
          "name": "stdout",
          "text": [
            "Train Loss: 5.9967, Acc: 0.1431\n",
            "Test  Loss: 6.6687, Acc: 0.1610\n",
            "\n",
            "Epoch 7/100\n"
          ]
        },
        {
          "output_type": "stream",
          "name": "stderr",
          "text": []
        },
        {
          "output_type": "stream",
          "name": "stdout",
          "text": [
            "Train Loss: 5.4053, Acc: 0.1517\n",
            "Test  Loss: 4.7777, Acc: 0.1697\n",
            "\n",
            "Epoch 8/100\n"
          ]
        },
        {
          "output_type": "stream",
          "name": "stderr",
          "text": []
        },
        {
          "output_type": "stream",
          "name": "stdout",
          "text": [
            "Train Loss: 4.4721, Acc: 0.1764\n",
            "Test  Loss: 4.1053, Acc: 0.2125\n",
            "\n",
            "Epoch 9/100\n"
          ]
        },
        {
          "output_type": "stream",
          "name": "stderr",
          "text": []
        },
        {
          "output_type": "stream",
          "name": "stdout",
          "text": [
            "Train Loss: 3.7352, Acc: 0.1882\n",
            "Test  Loss: 4.3028, Acc: 0.1604\n",
            "\n",
            "Epoch 10/100\n"
          ]
        },
        {
          "output_type": "stream",
          "name": "stderr",
          "text": []
        },
        {
          "output_type": "stream",
          "name": "stdout",
          "text": [
            "Train Loss: 3.6369, Acc: 0.1950\n",
            "Test  Loss: 3.4858, Acc: 0.1976\n",
            "\n",
            "Epoch 11/100\n"
          ]
        },
        {
          "output_type": "stream",
          "name": "stderr",
          "text": []
        },
        {
          "output_type": "stream",
          "name": "stdout",
          "text": [
            "Train Loss: 3.6537, Acc: 0.1750\n",
            "Test  Loss: 3.0397, Acc: 0.1784\n",
            "\n",
            "Epoch 12/100\n"
          ]
        },
        {
          "output_type": "stream",
          "name": "stderr",
          "text": []
        },
        {
          "output_type": "stream",
          "name": "stdout",
          "text": [
            "Train Loss: 3.3779, Acc: 0.1805\n",
            "Test  Loss: 2.7328, Acc: 0.2216\n",
            "\n",
            "Epoch 13/100\n"
          ]
        },
        {
          "output_type": "stream",
          "name": "stderr",
          "text": []
        },
        {
          "output_type": "stream",
          "name": "stdout",
          "text": [
            "Train Loss: 3.3451, Acc: 0.1902\n",
            "Test  Loss: 3.3320, Acc: 0.1913\n",
            "\n",
            "Epoch 14/100\n"
          ]
        },
        {
          "output_type": "stream",
          "name": "stderr",
          "text": []
        },
        {
          "output_type": "stream",
          "name": "stdout",
          "text": [
            "Train Loss: 3.4006, Acc: 0.1832\n",
            "Test  Loss: 4.6605, Acc: 0.1669\n",
            "\n",
            "Epoch 15/100\n"
          ]
        },
        {
          "output_type": "stream",
          "name": "stderr",
          "text": []
        },
        {
          "output_type": "stream",
          "name": "stdout",
          "text": [
            "Train Loss: 3.2147, Acc: 0.1927\n",
            "Test  Loss: 2.8948, Acc: 0.1856\n",
            "\n",
            "Epoch 16/100\n"
          ]
        },
        {
          "output_type": "stream",
          "name": "stderr",
          "text": []
        },
        {
          "output_type": "stream",
          "name": "stdout",
          "text": [
            "Train Loss: 2.9005, Acc: 0.2027\n",
            "Test  Loss: 2.5556, Acc: 0.2311\n",
            "\n",
            "Epoch 17/100\n"
          ]
        },
        {
          "output_type": "stream",
          "name": "stderr",
          "text": []
        },
        {
          "output_type": "stream",
          "name": "stdout",
          "text": [
            "Train Loss: 2.6629, Acc: 0.2173\n",
            "Test  Loss: 2.8212, Acc: 0.2278\n",
            "\n",
            "Epoch 18/100\n"
          ]
        },
        {
          "output_type": "stream",
          "name": "stderr",
          "text": []
        },
        {
          "output_type": "stream",
          "name": "stdout",
          "text": [
            "Train Loss: 2.5728, Acc: 0.2252\n",
            "Test  Loss: 2.4684, Acc: 0.2217\n",
            "\n",
            "Epoch 19/100\n"
          ]
        },
        {
          "output_type": "stream",
          "name": "stderr",
          "text": []
        },
        {
          "output_type": "stream",
          "name": "stdout",
          "text": [
            "Train Loss: 2.4590, Acc: 0.2383\n",
            "Test  Loss: 2.5389, Acc: 0.2018\n",
            "\n",
            "Epoch 20/100\n"
          ]
        },
        {
          "output_type": "stream",
          "name": "stderr",
          "text": []
        },
        {
          "output_type": "stream",
          "name": "stdout",
          "text": [
            "Train Loss: 2.4992, Acc: 0.2403\n",
            "Test  Loss: 2.4137, Acc: 0.2621\n",
            "\n",
            "Epoch 21/100\n"
          ]
        },
        {
          "output_type": "stream",
          "name": "stderr",
          "text": []
        },
        {
          "output_type": "stream",
          "name": "stdout",
          "text": [
            "Train Loss: 2.4786, Acc: 0.2448\n",
            "Test  Loss: 2.2618, Acc: 0.2435\n",
            "\n",
            "Epoch 22/100\n"
          ]
        },
        {
          "output_type": "stream",
          "name": "stderr",
          "text": []
        },
        {
          "output_type": "stream",
          "name": "stdout",
          "text": [
            "Train Loss: 2.3802, Acc: 0.2523\n",
            "Test  Loss: 2.4256, Acc: 0.2465\n",
            "\n",
            "Epoch 23/100\n"
          ]
        },
        {
          "output_type": "stream",
          "name": "stderr",
          "text": []
        },
        {
          "output_type": "stream",
          "name": "stdout",
          "text": [
            "Train Loss: 2.3794, Acc: 0.2442\n",
            "Test  Loss: 2.3651, Acc: 0.2385\n",
            "\n",
            "Epoch 24/100\n"
          ]
        },
        {
          "output_type": "stream",
          "name": "stderr",
          "text": []
        },
        {
          "output_type": "stream",
          "name": "stdout",
          "text": [
            "Train Loss: 2.2371, Acc: 0.2590\n",
            "Test  Loss: 2.1843, Acc: 0.2808\n",
            "\n",
            "Epoch 25/100\n"
          ]
        },
        {
          "output_type": "stream",
          "name": "stderr",
          "text": []
        },
        {
          "output_type": "stream",
          "name": "stdout",
          "text": [
            "Train Loss: 2.1561, Acc: 0.2738\n",
            "Test  Loss: 1.9979, Acc: 0.2857\n",
            "\n",
            "Epoch 26/100\n"
          ]
        },
        {
          "output_type": "stream",
          "name": "stderr",
          "text": []
        },
        {
          "output_type": "stream",
          "name": "stdout",
          "text": [
            "Train Loss: 2.1185, Acc: 0.2783\n",
            "Test  Loss: 2.4236, Acc: 0.2326\n",
            "\n",
            "Epoch 27/100\n"
          ]
        },
        {
          "output_type": "stream",
          "name": "stderr",
          "text": []
        },
        {
          "output_type": "stream",
          "name": "stdout",
          "text": [
            "Train Loss: 2.1605, Acc: 0.2588\n",
            "Test  Loss: 2.4910, Acc: 0.2092\n",
            "\n",
            "Epoch 28/100\n"
          ]
        },
        {
          "output_type": "stream",
          "name": "stderr",
          "text": []
        },
        {
          "output_type": "stream",
          "name": "stdout",
          "text": [
            "Train Loss: 2.4037, Acc: 0.2326\n",
            "Test  Loss: 2.3781, Acc: 0.2458\n",
            "\n",
            "Epoch 29/100\n"
          ]
        },
        {
          "output_type": "stream",
          "name": "stderr",
          "text": []
        },
        {
          "output_type": "stream",
          "name": "stdout",
          "text": [
            "Train Loss: 2.1823, Acc: 0.2541\n",
            "Test  Loss: 2.1517, Acc: 0.2822\n",
            "\n",
            "Epoch 30/100\n"
          ]
        },
        {
          "output_type": "stream",
          "name": "stderr",
          "text": []
        },
        {
          "output_type": "stream",
          "name": "stdout",
          "text": [
            "Train Loss: 2.0407, Acc: 0.2868\n",
            "Test  Loss: 2.0500, Acc: 0.2674\n",
            "\n",
            "Epoch 31/100\n"
          ]
        },
        {
          "output_type": "stream",
          "name": "stderr",
          "text": []
        },
        {
          "output_type": "stream",
          "name": "stdout",
          "text": [
            "Train Loss: 1.9925, Acc: 0.2998\n",
            "Test  Loss: 1.9186, Acc: 0.3170\n",
            "\n",
            "Epoch 32/100\n"
          ]
        },
        {
          "output_type": "stream",
          "name": "stderr",
          "text": []
        },
        {
          "output_type": "stream",
          "name": "stdout",
          "text": [
            "Train Loss: 1.9923, Acc: 0.3161\n",
            "Test  Loss: 2.0424, Acc: 0.2961\n",
            "\n",
            "Epoch 33/100\n"
          ]
        },
        {
          "output_type": "stream",
          "name": "stderr",
          "text": []
        },
        {
          "output_type": "stream",
          "name": "stdout",
          "text": [
            "Train Loss: 2.1321, Acc: 0.3104\n",
            "Test  Loss: 1.9245, Acc: 0.3295\n",
            "\n",
            "Epoch 34/100\n"
          ]
        },
        {
          "output_type": "stream",
          "name": "stderr",
          "text": []
        },
        {
          "output_type": "stream",
          "name": "stdout",
          "text": [
            "Train Loss: 1.9700, Acc: 0.3225\n",
            "Test  Loss: 2.1076, Acc: 0.3176\n",
            "\n",
            "Epoch 35/100\n"
          ]
        },
        {
          "output_type": "stream",
          "name": "stderr",
          "text": []
        },
        {
          "output_type": "stream",
          "name": "stdout",
          "text": [
            "Train Loss: 2.0632, Acc: 0.2999\n",
            "Test  Loss: 1.8058, Acc: 0.3365\n",
            "\n",
            "Epoch 36/100\n"
          ]
        },
        {
          "output_type": "stream",
          "name": "stderr",
          "text": []
        },
        {
          "output_type": "stream",
          "name": "stdout",
          "text": [
            "Train Loss: 2.0639, Acc: 0.2989\n",
            "Test  Loss: 2.0710, Acc: 0.2938\n",
            "\n",
            "Epoch 37/100\n"
          ]
        },
        {
          "output_type": "stream",
          "name": "stderr",
          "text": []
        },
        {
          "output_type": "stream",
          "name": "stdout",
          "text": [
            "Train Loss: 1.9820, Acc: 0.3212\n",
            "Test  Loss: 2.1257, Acc: 0.3004\n",
            "\n",
            "Epoch 38/100\n"
          ]
        },
        {
          "output_type": "stream",
          "name": "stderr",
          "text": []
        },
        {
          "output_type": "stream",
          "name": "stdout",
          "text": [
            "Train Loss: 1.9741, Acc: 0.3296\n",
            "Test  Loss: 1.7902, Acc: 0.3629\n",
            "\n",
            "Epoch 39/100\n"
          ]
        },
        {
          "output_type": "stream",
          "name": "stderr",
          "text": []
        },
        {
          "output_type": "stream",
          "name": "stdout",
          "text": [
            "Train Loss: 1.8559, Acc: 0.3441\n",
            "Test  Loss: 2.0263, Acc: 0.3309\n",
            "\n",
            "Epoch 40/100\n"
          ]
        },
        {
          "output_type": "stream",
          "name": "stderr",
          "text": []
        },
        {
          "output_type": "stream",
          "name": "stdout",
          "text": [
            "Train Loss: 1.8523, Acc: 0.3461\n",
            "Test  Loss: 1.6600, Acc: 0.3928\n",
            "\n",
            "Epoch 41/100\n"
          ]
        },
        {
          "output_type": "stream",
          "name": "stderr",
          "text": []
        },
        {
          "output_type": "stream",
          "name": "stdout",
          "text": [
            "Train Loss: 1.7668, Acc: 0.3661\n",
            "Test  Loss: 1.8282, Acc: 0.3699\n",
            "\n",
            "Epoch 42/100\n"
          ]
        },
        {
          "output_type": "stream",
          "name": "stderr",
          "text": []
        },
        {
          "output_type": "stream",
          "name": "stdout",
          "text": [
            "Train Loss: 1.7739, Acc: 0.3731\n",
            "Test  Loss: 1.7178, Acc: 0.3794\n",
            "\n",
            "Epoch 43/100\n"
          ]
        },
        {
          "output_type": "stream",
          "name": "stderr",
          "text": []
        },
        {
          "output_type": "stream",
          "name": "stdout",
          "text": [
            "Train Loss: 1.7324, Acc: 0.3817\n",
            "Test  Loss: 1.6441, Acc: 0.4006\n",
            "\n",
            "Epoch 44/100\n"
          ]
        },
        {
          "output_type": "stream",
          "name": "stderr",
          "text": []
        },
        {
          "output_type": "stream",
          "name": "stdout",
          "text": [
            "Train Loss: 1.6988, Acc: 0.3973\n",
            "Test  Loss: 1.6008, Acc: 0.4073\n",
            "\n",
            "Epoch 45/100\n"
          ]
        },
        {
          "output_type": "stream",
          "name": "stderr",
          "text": []
        },
        {
          "output_type": "stream",
          "name": "stdout",
          "text": [
            "Train Loss: 1.6977, Acc: 0.4122\n",
            "Test  Loss: 1.6226, Acc: 0.4409\n",
            "\n",
            "Epoch 46/100\n"
          ]
        },
        {
          "output_type": "stream",
          "name": "stderr",
          "text": []
        },
        {
          "output_type": "stream",
          "name": "stdout",
          "text": [
            "Train Loss: 1.6418, Acc: 0.4222\n",
            "Test  Loss: 1.6253, Acc: 0.4102\n",
            "\n",
            "Epoch 47/100\n"
          ]
        },
        {
          "output_type": "stream",
          "name": "stderr",
          "text": []
        },
        {
          "output_type": "stream",
          "name": "stdout",
          "text": [
            "Train Loss: 1.6312, Acc: 0.4293\n",
            "Test  Loss: 1.7807, Acc: 0.3618\n",
            "\n",
            "Epoch 48/100\n"
          ]
        },
        {
          "output_type": "stream",
          "name": "stderr",
          "text": []
        },
        {
          "output_type": "stream",
          "name": "stdout",
          "text": [
            "Train Loss: 1.6339, Acc: 0.4181\n",
            "Test  Loss: 1.4585, Acc: 0.4839\n",
            "\n",
            "Epoch 49/100\n"
          ]
        },
        {
          "output_type": "stream",
          "name": "stderr",
          "text": []
        },
        {
          "output_type": "stream",
          "name": "stdout",
          "text": [
            "Train Loss: 1.5932, Acc: 0.4402\n",
            "Test  Loss: 1.6592, Acc: 0.4106\n",
            "\n",
            "Epoch 50/100\n"
          ]
        },
        {
          "output_type": "stream",
          "name": "stderr",
          "text": []
        },
        {
          "output_type": "stream",
          "name": "stdout",
          "text": [
            "Train Loss: 1.5089, Acc: 0.4638\n",
            "Test  Loss: 1.4371, Acc: 0.4947\n",
            "\n",
            "Epoch 51/100\n"
          ]
        },
        {
          "output_type": "stream",
          "name": "stderr",
          "text": []
        },
        {
          "output_type": "stream",
          "name": "stdout",
          "text": [
            "Train Loss: 1.4432, Acc: 0.4883\n",
            "Test  Loss: 1.5563, Acc: 0.4534\n",
            "\n",
            "Epoch 52/100\n"
          ]
        },
        {
          "output_type": "stream",
          "name": "stderr",
          "text": []
        },
        {
          "output_type": "stream",
          "name": "stdout",
          "text": [
            "Train Loss: 1.4497, Acc: 0.4870\n",
            "Test  Loss: 1.4624, Acc: 0.4991\n",
            "\n",
            "Epoch 53/100\n"
          ]
        },
        {
          "output_type": "stream",
          "name": "stderr",
          "text": []
        },
        {
          "output_type": "stream",
          "name": "stdout",
          "text": [
            "Train Loss: 1.4632, Acc: 0.4996\n",
            "Test  Loss: 2.4327, Acc: 0.3083\n",
            "\n",
            "Epoch 54/100\n"
          ]
        },
        {
          "output_type": "stream",
          "name": "stderr",
          "text": []
        },
        {
          "output_type": "stream",
          "name": "stdout",
          "text": [
            "Train Loss: 1.8692, Acc: 0.3720\n",
            "Test  Loss: 1.8455, Acc: 0.3570\n",
            "\n",
            "Epoch 55/100\n"
          ]
        },
        {
          "output_type": "stream",
          "name": "stderr",
          "text": []
        },
        {
          "output_type": "stream",
          "name": "stdout",
          "text": [
            "Train Loss: 1.6528, Acc: 0.4236\n",
            "Test  Loss: 1.6521, Acc: 0.4214\n",
            "\n",
            "Epoch 56/100\n"
          ]
        },
        {
          "output_type": "stream",
          "name": "stderr",
          "text": []
        },
        {
          "output_type": "stream",
          "name": "stdout",
          "text": [
            "Train Loss: 1.4394, Acc: 0.4906\n",
            "Test  Loss: 1.5554, Acc: 0.4629\n",
            "\n",
            "Epoch 57/100\n"
          ]
        },
        {
          "output_type": "stream",
          "name": "stderr",
          "text": []
        },
        {
          "output_type": "stream",
          "name": "stdout",
          "text": [
            "Train Loss: 1.4117, Acc: 0.5107\n",
            "Test  Loss: 1.5974, Acc: 0.4738\n",
            "\n",
            "Epoch 58/100\n"
          ]
        },
        {
          "output_type": "stream",
          "name": "stderr",
          "text": []
        },
        {
          "output_type": "stream",
          "name": "stdout",
          "text": [
            "Train Loss: 1.5059, Acc: 0.4838\n",
            "Test  Loss: 1.2836, Acc: 0.5363\n",
            "\n",
            "Epoch 59/100\n"
          ]
        },
        {
          "output_type": "stream",
          "name": "stderr",
          "text": []
        },
        {
          "output_type": "stream",
          "name": "stdout",
          "text": [
            "Train Loss: 1.3551, Acc: 0.5238\n",
            "Test  Loss: 1.3891, Acc: 0.5214\n",
            "\n",
            "Epoch 60/100\n"
          ]
        },
        {
          "output_type": "stream",
          "name": "stderr",
          "text": []
        },
        {
          "output_type": "stream",
          "name": "stdout",
          "text": [
            "Train Loss: 1.3068, Acc: 0.5471\n",
            "Test  Loss: 1.2717, Acc: 0.5478\n",
            "\n",
            "Epoch 61/100\n"
          ]
        },
        {
          "output_type": "stream",
          "name": "stderr",
          "text": []
        },
        {
          "output_type": "stream",
          "name": "stdout",
          "text": [
            "Train Loss: 1.2788, Acc: 0.5581\n",
            "Test  Loss: 1.1695, Acc: 0.5781\n",
            "\n",
            "Epoch 62/100\n"
          ]
        },
        {
          "output_type": "stream",
          "name": "stderr",
          "text": []
        },
        {
          "output_type": "stream",
          "name": "stdout",
          "text": [
            "Train Loss: 1.2514, Acc: 0.5660\n",
            "Test  Loss: 1.3646, Acc: 0.5488\n",
            "\n",
            "Epoch 63/100\n"
          ]
        },
        {
          "output_type": "stream",
          "name": "stderr",
          "text": []
        },
        {
          "output_type": "stream",
          "name": "stdout",
          "text": [
            "Train Loss: 1.1895, Acc: 0.5833\n",
            "Test  Loss: 1.3269, Acc: 0.5743\n",
            "\n",
            "Epoch 64/100\n"
          ]
        },
        {
          "output_type": "stream",
          "name": "stderr",
          "text": []
        },
        {
          "output_type": "stream",
          "name": "stdout",
          "text": [
            "Train Loss: 1.1996, Acc: 0.5858\n",
            "Test  Loss: 1.2567, Acc: 0.5853\n",
            "\n",
            "Epoch 65/100\n"
          ]
        },
        {
          "output_type": "stream",
          "name": "stderr",
          "text": []
        },
        {
          "output_type": "stream",
          "name": "stdout",
          "text": [
            "Train Loss: 1.2044, Acc: 0.5872\n",
            "Test  Loss: 1.1406, Acc: 0.5997\n",
            "\n",
            "Epoch 66/100\n"
          ]
        },
        {
          "output_type": "stream",
          "name": "stderr",
          "text": []
        },
        {
          "output_type": "stream",
          "name": "stdout",
          "text": [
            "Train Loss: 1.1237, Acc: 0.6129\n",
            "Test  Loss: 1.1853, Acc: 0.6120\n",
            "\n",
            "Epoch 67/100\n"
          ]
        },
        {
          "output_type": "stream",
          "name": "stderr",
          "text": []
        },
        {
          "output_type": "stream",
          "name": "stdout",
          "text": [
            "Train Loss: 1.1690, Acc: 0.5942\n",
            "Test  Loss: 1.2323, Acc: 0.5865\n",
            "\n",
            "Epoch 68/100\n"
          ]
        },
        {
          "output_type": "stream",
          "name": "stderr",
          "text": []
        },
        {
          "output_type": "stream",
          "name": "stdout",
          "text": [
            "Train Loss: 1.1365, Acc: 0.6102\n",
            "Test  Loss: 1.1697, Acc: 0.6016\n",
            "\n",
            "Epoch 69/100\n"
          ]
        },
        {
          "output_type": "stream",
          "name": "stderr",
          "text": []
        },
        {
          "output_type": "stream",
          "name": "stdout",
          "text": [
            "Train Loss: 1.0732, Acc: 0.6304\n",
            "Test  Loss: 1.1763, Acc: 0.6105\n",
            "\n",
            "Epoch 70/100\n"
          ]
        },
        {
          "output_type": "stream",
          "name": "stderr",
          "text": []
        },
        {
          "output_type": "stream",
          "name": "stdout",
          "text": [
            "Train Loss: 1.2300, Acc: 0.5833\n",
            "Test  Loss: 1.1887, Acc: 0.5850\n",
            "\n",
            "Epoch 71/100\n"
          ]
        },
        {
          "output_type": "stream",
          "name": "stderr",
          "text": []
        },
        {
          "output_type": "stream",
          "name": "stdout",
          "text": [
            "Train Loss: 1.1269, Acc: 0.6125\n",
            "Test  Loss: 1.0202, Acc: 0.6337\n",
            "\n",
            "Epoch 72/100\n"
          ]
        },
        {
          "output_type": "stream",
          "name": "stderr",
          "text": []
        },
        {
          "output_type": "stream",
          "name": "stdout",
          "text": [
            "Train Loss: 1.0730, Acc: 0.6293\n",
            "Test  Loss: 1.0946, Acc: 0.6349\n",
            "\n",
            "Epoch 73/100\n"
          ]
        },
        {
          "output_type": "stream",
          "name": "stderr",
          "text": []
        },
        {
          "output_type": "stream",
          "name": "stdout",
          "text": [
            "Train Loss: 1.0501, Acc: 0.6414\n",
            "Test  Loss: 0.9404, Acc: 0.6684\n",
            "\n",
            "Epoch 74/100\n"
          ]
        },
        {
          "output_type": "stream",
          "name": "stderr",
          "text": []
        },
        {
          "output_type": "stream",
          "name": "stdout",
          "text": [
            "Train Loss: 1.0087, Acc: 0.6527\n",
            "Test  Loss: 1.0425, Acc: 0.6411\n",
            "\n",
            "Epoch 75/100\n"
          ]
        },
        {
          "output_type": "stream",
          "name": "stderr",
          "text": []
        },
        {
          "output_type": "stream",
          "name": "stdout",
          "text": [
            "Train Loss: 1.0082, Acc: 0.6530\n",
            "Test  Loss: 1.2340, Acc: 0.5956\n",
            "\n",
            "Epoch 76/100\n"
          ]
        },
        {
          "output_type": "stream",
          "name": "stderr",
          "text": []
        },
        {
          "output_type": "stream",
          "name": "stdout",
          "text": [
            "Train Loss: 1.0219, Acc: 0.6510\n",
            "Test  Loss: 1.0745, Acc: 0.6368\n",
            "\n",
            "Epoch 77/100\n"
          ]
        },
        {
          "output_type": "stream",
          "name": "stderr",
          "text": []
        },
        {
          "output_type": "stream",
          "name": "stdout",
          "text": [
            "Train Loss: 1.0359, Acc: 0.6479\n",
            "Test  Loss: 1.1774, Acc: 0.6087\n",
            "\n",
            "Epoch 78/100\n"
          ]
        },
        {
          "output_type": "stream",
          "name": "stderr",
          "text": []
        },
        {
          "output_type": "stream",
          "name": "stdout",
          "text": [
            "Train Loss: 0.9865, Acc: 0.6598\n",
            "Test  Loss: 1.0937, Acc: 0.6276\n",
            "\n",
            "Epoch 79/100\n"
          ]
        },
        {
          "output_type": "stream",
          "name": "stderr",
          "text": []
        },
        {
          "output_type": "stream",
          "name": "stdout",
          "text": [
            "Train Loss: 0.9955, Acc: 0.6610\n",
            "Test  Loss: 0.9892, Acc: 0.6619\n",
            "\n",
            "Epoch 80/100\n"
          ]
        },
        {
          "output_type": "stream",
          "name": "stderr",
          "text": []
        },
        {
          "output_type": "stream",
          "name": "stdout",
          "text": [
            "Train Loss: 0.9400, Acc: 0.6792\n",
            "Test  Loss: 0.9403, Acc: 0.6758\n",
            "\n",
            "Epoch 81/100\n"
          ]
        },
        {
          "output_type": "stream",
          "name": "stderr",
          "text": []
        },
        {
          "output_type": "stream",
          "name": "stdout",
          "text": [
            "Train Loss: 0.9284, Acc: 0.6821\n",
            "Test  Loss: 1.0230, Acc: 0.6628\n",
            "\n",
            "Epoch 82/100\n"
          ]
        },
        {
          "output_type": "stream",
          "name": "stderr",
          "text": []
        },
        {
          "output_type": "stream",
          "name": "stdout",
          "text": [
            "Train Loss: 0.8963, Acc: 0.6939\n",
            "Test  Loss: 0.9096, Acc: 0.6937\n",
            "\n",
            "Epoch 83/100\n"
          ]
        },
        {
          "output_type": "stream",
          "name": "stderr",
          "text": []
        },
        {
          "output_type": "stream",
          "name": "stdout",
          "text": [
            "Train Loss: 0.9540, Acc: 0.6790\n",
            "Test  Loss: 1.1310, Acc: 0.6451\n",
            "\n",
            "Epoch 84/100\n"
          ]
        },
        {
          "output_type": "stream",
          "name": "stderr",
          "text": []
        },
        {
          "output_type": "stream",
          "name": "stdout",
          "text": [
            "Train Loss: 0.8936, Acc: 0.6977\n",
            "Test  Loss: 1.0730, Acc: 0.6679\n",
            "\n",
            "Epoch 85/100\n"
          ]
        },
        {
          "output_type": "stream",
          "name": "stderr",
          "text": []
        },
        {
          "output_type": "stream",
          "name": "stdout",
          "text": [
            "Train Loss: 0.8507, Acc: 0.7126\n",
            "Test  Loss: 0.8809, Acc: 0.6899\n",
            "\n",
            "Epoch 86/100\n"
          ]
        },
        {
          "output_type": "stream",
          "name": "stderr",
          "text": []
        },
        {
          "output_type": "stream",
          "name": "stdout",
          "text": [
            "Train Loss: 0.9064, Acc: 0.7007\n",
            "Test  Loss: 1.0673, Acc: 0.6538\n",
            "\n",
            "Epoch 87/100\n"
          ]
        },
        {
          "output_type": "stream",
          "name": "stderr",
          "text": []
        },
        {
          "output_type": "stream",
          "name": "stdout",
          "text": [
            "Train Loss: 0.8595, Acc: 0.7129\n",
            "Test  Loss: 0.8439, Acc: 0.7119\n",
            "\n",
            "Epoch 88/100\n"
          ]
        },
        {
          "output_type": "stream",
          "name": "stderr",
          "text": []
        },
        {
          "output_type": "stream",
          "name": "stdout",
          "text": [
            "Train Loss: 0.9048, Acc: 0.7010\n",
            "Test  Loss: 1.0228, Acc: 0.6761\n",
            "\n",
            "Epoch 89/100\n"
          ]
        },
        {
          "output_type": "stream",
          "name": "stderr",
          "text": []
        },
        {
          "output_type": "stream",
          "name": "stdout",
          "text": [
            "Train Loss: 0.7850, Acc: 0.7340\n",
            "Test  Loss: 0.9452, Acc: 0.6980\n",
            "\n",
            "Epoch 90/100\n"
          ]
        },
        {
          "output_type": "stream",
          "name": "stderr",
          "text": []
        },
        {
          "output_type": "stream",
          "name": "stdout",
          "text": [
            "Train Loss: 0.8077, Acc: 0.7318\n",
            "Test  Loss: 0.7811, Acc: 0.7359\n",
            "\n",
            "Epoch 91/100\n"
          ]
        },
        {
          "output_type": "stream",
          "name": "stderr",
          "text": []
        },
        {
          "output_type": "stream",
          "name": "stdout",
          "text": [
            "Train Loss: 0.7655, Acc: 0.7456\n",
            "Test  Loss: 0.7929, Acc: 0.7402\n",
            "\n",
            "Epoch 92/100\n"
          ]
        },
        {
          "output_type": "stream",
          "name": "stderr",
          "text": []
        },
        {
          "output_type": "stream",
          "name": "stdout",
          "text": [
            "Train Loss: 0.7618, Acc: 0.7441\n",
            "Test  Loss: 0.8241, Acc: 0.7392\n",
            "\n",
            "Epoch 93/100\n"
          ]
        },
        {
          "output_type": "stream",
          "name": "stderr",
          "text": []
        },
        {
          "output_type": "stream",
          "name": "stdout",
          "text": [
            "Train Loss: 0.7453, Acc: 0.7557\n",
            "Test  Loss: 0.9399, Acc: 0.7100\n",
            "\n",
            "Epoch 94/100\n"
          ]
        },
        {
          "output_type": "stream",
          "name": "stderr",
          "text": []
        },
        {
          "output_type": "stream",
          "name": "stdout",
          "text": [
            "Train Loss: 0.8335, Acc: 0.7311\n",
            "Test  Loss: 0.8177, Acc: 0.7342\n",
            "\n",
            "Epoch 95/100\n"
          ]
        },
        {
          "output_type": "stream",
          "name": "stderr",
          "text": []
        },
        {
          "output_type": "stream",
          "name": "stdout",
          "text": [
            "Train Loss: 0.7518, Acc: 0.7503\n",
            "Test  Loss: 0.9005, Acc: 0.7398\n",
            "\n",
            "Epoch 96/100\n"
          ]
        },
        {
          "output_type": "stream",
          "name": "stderr",
          "text": []
        },
        {
          "output_type": "stream",
          "name": "stdout",
          "text": [
            "Train Loss: 0.7454, Acc: 0.7552\n",
            "Test  Loss: 0.9049, Acc: 0.7159\n",
            "\n",
            "Epoch 97/100\n"
          ]
        },
        {
          "output_type": "stream",
          "name": "stderr",
          "text": []
        },
        {
          "output_type": "stream",
          "name": "stdout",
          "text": [
            "Train Loss: 0.7194, Acc: 0.7632\n",
            "Test  Loss: 0.7230, Acc: 0.7660\n",
            "\n",
            "Epoch 98/100\n"
          ]
        },
        {
          "output_type": "stream",
          "name": "stderr",
          "text": []
        },
        {
          "output_type": "stream",
          "name": "stdout",
          "text": [
            "Train Loss: 0.6961, Acc: 0.7713\n",
            "Test  Loss: 0.7850, Acc: 0.7493\n",
            "\n",
            "Epoch 99/100\n"
          ]
        },
        {
          "output_type": "stream",
          "name": "stderr",
          "text": []
        },
        {
          "output_type": "stream",
          "name": "stdout",
          "text": [
            "Train Loss: 0.7028, Acc: 0.7727\n",
            "Test  Loss: 0.8087, Acc: 0.7458\n",
            "\n",
            "Epoch 100/100\n"
          ]
        },
        {
          "output_type": "stream",
          "name": "stderr",
          "text": []
        },
        {
          "output_type": "stream",
          "name": "stdout",
          "text": [
            "Train Loss: 0.6714, Acc: 0.7821\n",
            "Test  Loss: 0.6717, Acc: 0.7848\n",
            "\n",
            "✅ Best Accuracy on cifar10: 0.7848\n"
          ]
        }
      ]
    }
  ],
  "metadata": {
    "accelerator": "GPU",
    "colab": {
      "gpuType": "T4",
      "provenance": []
    },
    "kernelspec": {
      "display_name": "Python 3",
      "name": "python3"
    },
    "language_info": {
      "codemirror_mode": {
        "name": "ipython",
        "version": 3
      },
      "file_extension": ".py",
      "mimetype": "text/x-python",
      "name": "python",
      "nbconvert_exporter": "python",
      "pygments_lexer": "ipython3",
      "version": "3.13.4"
    }
  },
  "nbformat": 4,
  "nbformat_minor": 5
}